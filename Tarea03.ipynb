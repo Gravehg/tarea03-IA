{
 "cells": [
  {
   "cell_type": "code",
   "execution_count": 4,
   "metadata": {},
   "outputs": [
    {
     "name": "stdout",
     "output_type": "stream",
     "text": [
      "e:\\tarea03-IA\\config\n"
     ]
    }
   ],
   "source": [
    "import sys\n",
    "import os\n",
    "import hydra\n",
    "from config.config import Configuration\n",
    "from autoencoder import AutoEncoder\n",
    "from torch.utils.data import DataLoader, random_split\n",
    "from torchvision import transforms, datasets\n",
    "import pytorch_lightning as L\n",
    "\n",
    "\n",
    "notebook_dir = os.path.dirname(os.path.abspath(os.getcwd()))\n",
    "config_dir = os.path.join(notebook_dir,\"tarea03-IA\\\\config\")\n",
    "\n",
    "sys.argv = [arg for arg in sys.argv if not arg.startswith(\"--\")]\n",
    "\n",
    "@hydra.main(config_path=config_dir, config_name=\"config\", version_base=None)\n",
    "def training_one(config: Configuration):\n",
    "    transform = transforms.ToTensor()\n",
    "    train_dataset = datasets.FashionMNIST(root=config.DATASET.DATA_DIR, train=True, transform=transform, download=True)\n",
    "    test_dataset = datasets.FashionMNIST(root=config.DATASET.DATA_DIR, train=False, transform=transform, download=True)\n",
    "\n",
    "    train_size = int(0.8 * len(train_dataset))\n",
    "    val_size = len(train_dataset) - train_size\n",
    "\n",
    "    train_data, val_data = random_split(train_dataset, [train_size, val_size])\n",
    "\n",
    "    train_loader = DataLoader(train_data, batch_size=config.TRAIN.BATCH_SIZE, shuffle=True)\n",
    "    val_loader = DataLoader(val_data, batch_size=config.TRAIN.BATCH_SIZE, shuffle=False)\n",
    "    test_loader = DataLoader(test_dataset, batch_size=config.TRAIN.BATCH_SIZE, shuffle=False)\n",
    "\n",
    "    model = AutoEncoder(config.MODEL.INPUT_SIZE, config.MODEL.LATENT_DIM, config.TRAIN.LEARNING_RATE)\n",
    "    \n",
    "    trainer = L.Trainer(max_epochs=config.TRAIN.NUM_EPOCHS, accelerator=config.TRAIN.ACCELERATION, \n",
    "                        precision=config.TRAIN.PRECISION)\n",
    "    \n",
    "    trainer.fit(model,train_loader,val_loader)\n",
    "    trainer.test(model, test_loader)\n",
    "    print(config)\n",
    "\n",
    "@hydra.main(config_path=config_dir, config_name=\"config2\", version_base=None)\n",
    "def training_two(config: Configuration):\n",
    "    print(config)\n",
    "\n",
    "training_one()"
   ]
  }
 ],
 "metadata": {
  "kernelspec": {
   "display_name": "base",
   "language": "python",
   "name": "python3"
  },
  "language_info": {
   "codemirror_mode": {
    "name": "ipython",
    "version": 3
   },
   "file_extension": ".py",
   "mimetype": "text/x-python",
   "name": "python",
   "nbconvert_exporter": "python",
   "pygments_lexer": "ipython3",
   "version": "3.12.3"
  }
 },
 "nbformat": 4,
 "nbformat_minor": 2
}
